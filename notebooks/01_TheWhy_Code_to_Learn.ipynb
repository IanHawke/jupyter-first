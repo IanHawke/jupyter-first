{
 "cells": [
  {
   "cell_type": "markdown",
   "metadata": {},
   "source": [
    "# Jupyter-first courses: Section 1 (The Why)\n",
    "\n",
    "## \"Don't learn to code—Code to learn\""
   ]
  },
  {
   "cell_type": "markdown",
   "metadata": {},
   "source": [
    "For years now, we hear calls for “learning to code.” These calls may be well-intentioned and worthwhile, but they miss the point—what we need is _coding to learn_.\n",
    "\n",
    "[Seymour Papert](https://en.wikipedia.org/wiki/Seymour_Papert), who claimed that “children can learn to program and that learning to program can affect the way they learn everything else,” is the father of _computational thinking_. But what did he mean by this? “It did not occur to me that anyone could possibly take my statement to mean that learning to program would by itself have consequences for how children learn and think. \\[…\\] Encouraging programming as an activity meant to be good in itself is far removed, in its nature, from working at identifying ideas that have been disempowered and seeking ways to re-empower them. \\[…\\] Of course, it is harder to think about ideas than to bring a programming language into a classroom.” (Papert, 2000.)\n",
    "\n",
    "In this first section, I want to unpack the richness of Papertian thought about the role of computational technology, and explain what I mean by “coding to learn.” This discussion represents “the why” behind most of my educational efforts in the past few years.\n",
    "\n",
    "The national narrative about “learning to code” is often about jobs, or about producing skilled workers for the needs of our technology fueled economy. Salient quotes from prominent people include:<sup>1</sup> \n",
    "\n",
    "President Bill Clinton: \n",
    "> At a time when people are saying “I want a good job – I got out of college and I couldnt find one,” every single year in America there is a standing demand for 120,000 people who are training in computer science.\n",
    "\n",
    "Michael Bloomberg, Former Mayor, New York City:\n",
    ">New York City’s economic future depends on it, and while we’re already giving thousands of our students the opportunity to learn how to code, much more can and should be done.\n",
    "\n",
    "Arne Duncan, Former Secretary of Education:\n",
    ">To compete in a global market, our students need high-quality STEM education including computer science skills such as coding.\n",
    "\n",
    "Sir Richard Branson gets closer to the core of it:\n",
    ">Teaching young people to code early on can help build skills and confidence and energize the classroom with learning-by-doing opportunities."
   ]
  },
  {
   "cell_type": "markdown",
   "metadata": {},
   "source": [
    "Meanwhile, anyone repeating the recurrent theme that simply learning to code will somehow make you better at thinking, overall, or that everyone should learn to think like a computer scientist to get better at problem-solving, is just misinterpreting Papert’s ideas.\n",
    "\n",
    "To bring the point home, let’s study a deep example, from a 1995 semi-obscure gem of a paper by [Uri Wilensky](https://www.mccormick.northwestern.edu/research-faculty/directory/profiles/wilensky-uri.html), Professor of Learning Sciences and Computer Science at Northwestern University. Wilensky (1995)  examines the case study of a learner faced with a probability paradox. Attacking the paradox computationally, she develops strong intuition about the ideas of randomness and distribution. Concepts such as these are a stumbling block for learning probability, and engaging computationally to “solve” a paradox can motivate learners and drive them to build new mathematical understanding.\n",
    "\n",
    "It was true in the 1990s, but it’s even more critical today, that learning probability and statistics is essential for all students in natural, physical and social sciences. We could argue that it is necessary knowledge to be an informed citizen in modern society, with statistics mentioned in the media with increasing frequency, and data science penetrating all sectors of the economy. Unfortunately, lack of understanding of probability and statistics is rife, even among professionals. College students are also generally averse to the subject, which is typically presented in highly formal instructional settings (formulas to be memorized). Developing intuition about probability is difficult because, in our everyday lives, we rarely encounter large numbers of repeated trials, a fundamental ingredient of probability. Exploratory computational environments give us access to manipulating large numbers and help develop probabilistic reasoning.\n",
    "\n",
    "In the Wilensky (1995) case study, a learner will explore the meaning of randomness. She is presented with this seemingly well-defined question: **If you choose a random chord on a given circle, what is the probability that the chord is longer than the circle’s radius?**\n",
    "\n",
    "It turns out, this question has a hidden ambiguity, and it admits more than one possible answer. The learner in the case study, Ellie, is a professional with good undergraduate background in mathematics. Yet, like virtually anyone else, she will struggle with the meaning of randomness. She begins her exploration of the question by drawing a circle, and tracing a chord that has length equal to the circle’s radius (see the figure below). Then she draws the radii from the chord's endpoints. Looking at this diagram, she sees that she can fit six such equilateral triangles inside the circle. She draws another chord of length equal to the radius, from one endpoint of the first (point **P** in the figure). She develops an argument for the solution: picking point **P**, you can draw a chord from it of length smaller than a radius if you pick the second point on either side within an arc of 60 degrees: one sixth of the circle. Thus, the probability of picking a chord shorter than a radius is $1/3$, and a chord longer than a radius is $2/3$. That's Ellie's answer.\n"
   ]
  },
  {
   "cell_type": "markdown",
   "metadata": {},
   "source": [
    "## Notes\n",
    "\n",
    "1. Quotes from: https://codebeedo.com/what-did-they-say-about-coding/\n"
   ]
  },
  {
   "cell_type": "markdown",
   "metadata": {},
   "source": [
    "## References\n",
    "\n",
    "- Papert, S., 2000. What's the big idea? Toward a pedagogy of idea power. IBM systems journal, 39(3.4), pp.720-729.\n",
    "\n",
    "- Wilensky, U., 1995. Paradox, programming, and learning probability: A case study in a connected mathematics framework. The Journal of Mathematical Behavior, 14(2), pp.253-280, https://doi.org/10.1016/0732-3123(95)90010-1\n"
   ]
  }
 ],
 "metadata": {
  "kernelspec": {
   "display_name": "Python 3",
   "language": "python",
   "name": "python3"
  },
  "language_info": {
   "codemirror_mode": {
    "name": "ipython",
    "version": 3
   },
   "file_extension": ".py",
   "mimetype": "text/x-python",
   "name": "python",
   "nbconvert_exporter": "python",
   "pygments_lexer": "ipython3",
   "version": "3.6.6"
  }
 },
 "nbformat": 4,
 "nbformat_minor": 2
}
